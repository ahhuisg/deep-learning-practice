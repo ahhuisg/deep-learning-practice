{
 "cells": [
  {
   "cell_type": "code",
   "execution_count": 1,
   "metadata": {},
   "outputs": [],
   "source": [
    "from sklearn.preprocessing import OneHotEncoder\n",
    "\n",
    "import tensorflow as tf\n",
    "\n",
    "from keras.models import Model\n",
    "from keras.layers import Input\n",
    "from keras.layers import Dense\n",
    "from keras.layers import Flatten\n",
    "from keras.layers.convolutional import Conv2D\n",
    "from keras.layers.convolutional import AveragePooling2D\n",
    "from keras import backend as K\n",
    "\n",
    "from keras.datasets import cifar10"
   ]
  },
  {
   "cell_type": "markdown",
   "metadata": {},
   "source": [
    "# Prepare Data"
   ]
  },
  {
   "cell_type": "code",
   "execution_count": 2,
   "metadata": {},
   "outputs": [],
   "source": [
    "(X_train_org, y_train_org), (X_test_org, y_test_org) = cifar10.load_data()"
   ]
  },
  {
   "cell_type": "code",
   "execution_count": 3,
   "metadata": {},
   "outputs": [],
   "source": [
    "ohe = OneHotEncoder()\n",
    "ohe.fit(y_train_org)\n",
    "\n",
    "y_train = ohe.transform(y_train_org).toarray()\n",
    "y_test = ohe.transform(y_test_org).toarray()"
   ]
  },
  {
   "cell_type": "code",
   "execution_count": 4,
   "metadata": {},
   "outputs": [],
   "source": [
    "X_train = X_train_org.astype('float32') / 127.5 - 1\n",
    "X_test = X_test_org.astype('float32') / 127.5 - 1"
   ]
  },
  {
   "cell_type": "markdown",
   "metadata": {},
   "source": [
    "# Define ResNet"
   ]
  },
  {
   "cell_type": "code",
   "execution_count": 5,
   "metadata": {},
   "outputs": [],
   "source": [
    "class ResNet(object):\n",
    "    def __init__(self, input_shape, num_residual_blocks_arr, num_filter_base, num_class):\n",
    "        \n",
    "        self._model = self._res_net(input_shape, num_residual_blocks_arr, num_filter_base, num_class)\n",
    "        \n",
    "        \n",
    "        self._model.compile(loss='categorical_crossentropy',\n",
    "              optimizer='adam',\n",
    "              metrics=['accuracy'])\n",
    "    \n",
    "    def fit(self, X_train, y_train, batch_size=32, epochs=100, X_test=None, y_test=None):\n",
    "        if X_test is not None and y_test is not None:\n",
    "            self._model.fit(X_train, y_train,\n",
    "                      batch_size=batch_size,\n",
    "                      epochs=epochs,\n",
    "                      validation_data=(X_test, y_test),\n",
    "                      shuffle=True)\n",
    "        else:\n",
    "            self._model.fit(X_train, y_train,\n",
    "                  batch_size=batch_size,\n",
    "                  epochs=epochs,\n",
    "                  shuffle=True)\n",
    "    \n",
    "    def predict(self, x):\n",
    "        return self._model.predict(x)\n",
    "    \n",
    "    def _res_net(self, input_shape, num_residual_blocks_arr, num_filter_base, num_class):\n",
    "        input = Input(shape=input_shape)\n",
    "        conv0 = Conv2D(num_filter_base, \n",
    "                       kernel_size=(3, 3), \n",
    "                       strides=(1, 1), \n",
    "                       padding='same', \n",
    "                       activation='relu')(input)\n",
    "   \n",
    "        last_layer = conv0\n",
    "        num_filters = num_filter_base\n",
    "        \n",
    "        for num_residual_blocks in num_residual_blocks_arr:\n",
    "            num_filters = num_filters * 2\n",
    "            for _ in range(num_residual_blocks):    \n",
    "                conv = self._residual_block(last_layer, num_filters)\n",
    "                last_layer = conv\n",
    "\n",
    "        shape = K.int_shape(last_layer)\n",
    "        # Global Average Pooling along Width and Height\n",
    "        pool = AveragePooling2D(pool_size=(shape[1], shape[2]),\n",
    "                                 strides=(1, 1))(last_layer)\n",
    "        flatten = Flatten()(pool)\n",
    "        logits = Dense(units=num_class,\n",
    "                      activation=\"softmax\")(flatten)\n",
    "\n",
    "        model = Model(inputs=input, outputs=logits)\n",
    "\n",
    "        return model\n",
    "\n",
    "    def _residual_block(self, x, num_output_channel):\n",
    "        num_input_channel = K.int_shape(x)[-1]\n",
    "\n",
    "        if num_output_channel == num_input_channel * 2:\n",
    "            # number of output channel doubled. 3 things will happen:\n",
    "            # 1. The output image' width and length will be halved\n",
    "            # 2. The input image will go through a pooling layer with its width and length will be halved too\n",
    "            # 3. pad the number of channels of the input images for residual learning\n",
    "            output_channels_doubled = True\n",
    "            strides = (2, 2)\n",
    "        elif num_input_channel == num_output_channel:\n",
    "            # number of output channel remain the same\n",
    "            # go through 2 convolution layers without changing images' size\n",
    "            output_channels_doubled = False\n",
    "            strides = (1, 1)\n",
    "        else:\n",
    "            raise ValueError(f\"Invalid output channnel: {num_output_channel}\")\n",
    "        \n",
    "        conv1 = Conv2D(num_output_channel, \n",
    "                       kernel_size=(3, 3), \n",
    "                       strides=strides, \n",
    "                       padding='same', \n",
    "                       activation='relu')(x)\n",
    "\n",
    "        conv2 = Conv2D(num_output_channel, \n",
    "                       kernel_size=(3, 3), \n",
    "                       strides=(1, 1), \n",
    "                       padding='same', \n",
    "                       activation='relu')(conv1)    \n",
    "\n",
    "        if output_channels_doubled:\n",
    "            pooled_x = AveragePooling2D(pool_size=(2, 2),\n",
    "                                        strides=(2, 2),\n",
    "                                        padding = 'same')(x)\n",
    "\n",
    "            padded_x = tf.pad(pooled_x,\n",
    "                              [[0,0],\n",
    "                               [0,0],\n",
    "                               [0,0],\n",
    "                               [num_input_channel // 2, num_input_channel // 2]])\n",
    "        else:\n",
    "            padded_x = x\n",
    "\n",
    "        #residual learning\n",
    "        output_x = conv2 + padded_x\n",
    "\n",
    "        return output_x"
   ]
  },
  {
   "cell_type": "markdown",
   "metadata": {},
   "source": [
    "# Training and Testing"
   ]
  },
  {
   "cell_type": "code",
   "execution_count": 6,
   "metadata": {},
   "outputs": [],
   "source": [
    "batch_size = 128\n",
    "nb_classes = 10\n",
    "nb_epoch = 5\n",
    "\n",
    "res34 = ResNet(input_shape=(32,32,3),\n",
    "               num_residual_blocks_arr=[3, 4, 6, 3], \n",
    "               num_filter_base=32,\n",
    "               num_class=10)"
   ]
  },
  {
   "cell_type": "code",
   "execution_count": 7,
   "metadata": {},
   "outputs": [
    {
     "name": "stdout",
     "output_type": "stream",
     "text": [
      "Epoch 1/5\n",
      "391/391 [==============================] - 2343s 6s/step - loss: 2.0021 - accuracy: 0.2924 - val_loss: 1.3157 - val_accuracy: 0.5139\n",
      "Epoch 2/5\n",
      "391/391 [==============================] - 2123s 5s/step - loss: 1.2212 - accuracy: 0.5572 - val_loss: 1.0442 - val_accuracy: 0.6267\n",
      "Epoch 3/5\n",
      "391/391 [==============================] - 2220s 6s/step - loss: 0.9501 - accuracy: 0.6587 - val_loss: 0.9108 - val_accuracy: 0.6772\n",
      "Epoch 4/5\n",
      "391/391 [==============================] - 2196s 6s/step - loss: 0.7628 - accuracy: 0.7299 - val_loss: 0.8016 - val_accuracy: 0.7155\n",
      "Epoch 5/5\n",
      "391/391 [==============================] - 2109s 5s/step - loss: 0.6145 - accuracy: 0.7821 - val_loss: 0.7327 - val_accuracy: 0.7482\n"
     ]
    }
   ],
   "source": [
    "res34.fit(X_train, y_train,\n",
    "          batch_size=batch_size,\n",
    "          epochs=nb_epoch,\n",
    "          X_test=X_test,\n",
    "          y_test=y_test)"
   ]
  },
  {
   "cell_type": "code",
   "execution_count": null,
   "metadata": {},
   "outputs": [],
   "source": []
  }
 ],
 "metadata": {
  "kernelspec": {
   "display_name": "Python 3",
   "language": "python",
   "name": "python3"
  },
  "language_info": {
   "codemirror_mode": {
    "name": "ipython",
    "version": 3
   },
   "file_extension": ".py",
   "mimetype": "text/x-python",
   "name": "python",
   "nbconvert_exporter": "python",
   "pygments_lexer": "ipython3",
   "version": "3.7.9"
  }
 },
 "nbformat": 4,
 "nbformat_minor": 2
}
